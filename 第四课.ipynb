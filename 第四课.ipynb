{
 "cells": [
  {
   "cell_type": "markdown",
   "id": "1ee796bf",
   "metadata": {},
   "source": [
    "# 第四课"
   ]
  },
  {
   "cell_type": "code",
   "execution_count": 5,
   "id": "a7f49948",
   "metadata": {},
   "outputs": [],
   "source": [
    "import numpy as np\n",
    "import nf\n",
    "from nf import Tensor"
   ]
  },
  {
   "cell_type": "code",
   "execution_count": 29,
   "id": "4ad176b8",
   "metadata": {},
   "outputs": [],
   "source": [
    "class Linear:\n",
    "    def __init__(self, in_num, out_num):\n",
    "        self.in_num = in_num\n",
    "        self.out_num = out_num\n",
    "        self.w = Tensor(np.random.random([in_num, out_num]), requires_grad=True)\n",
    "        print(self.w.shape)\n",
    "    \n",
    "    def __call__(self, feat):\n",
    "        if isinstance(feat, np.ndarray):\n",
    "            feat = Tensor(feat)\n",
    "        y = feat @ self.w\n",
    "        return y\n",
    "        "
   ]
  },
  {
   "cell_type": "code",
   "execution_count": 34,
   "id": "792218af",
   "metadata": {},
   "outputs": [
    {
     "name": "stdout",
     "output_type": "stream",
     "text": [
      "(10, 2)\n",
      "(2, 4)\n",
      "(100, 2)\n",
      "(10, 2)\n"
     ]
    }
   ],
   "source": [
    "in_num = 10\n",
    "out_num1 = 2\n",
    "out_num2 = 4\n",
    "feat = np.random.random([100, 10])\n",
    "\n",
    "layer1 = Linear(in_num, out_num1)\n",
    "layer2 = Linear(out_num1, out_num2)\n",
    "y = layer1(feat)\n",
    "# y = layer2(y)\n",
    "\n",
    "print(y.shape)\n",
    "y.backward()\n",
    "print(layer1.w.grad.shape)"
   ]
  }
 ],
 "metadata": {
  "kernelspec": {
   "display_name": "Python [conda env:py37] *",
   "language": "python",
   "name": "conda-env-py37-py"
  },
  "language_info": {
   "codemirror_mode": {
    "name": "ipython",
    "version": 3
   },
   "file_extension": ".py",
   "mimetype": "text/x-python",
   "name": "python",
   "nbconvert_exporter": "python",
   "pygments_lexer": "ipython3",
   "version": "3.7.10"
  }
 },
 "nbformat": 4,
 "nbformat_minor": 5
}
