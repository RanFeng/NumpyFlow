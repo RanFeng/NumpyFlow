{
 "cells": [
  {
   "cell_type": "markdown",
   "id": "101ecc0b",
   "metadata": {},
   "source": [
    "# 第一课\n",
    "> 项目代码：https://github.com/RanFeng/NumpyFlow"
   ]
  },
  {
   "cell_type": "markdown",
   "id": "89968732",
   "metadata": {},
   "source": [
    "## 提升开发效率\n",
    "\n",
    "> 工欲善其事，必先利其器\n",
    "\n",
    "- 使用jupyter\n",
    "\n",
    "``` bash\n",
    "jupyter-notebook\n",
    "``` \n",
    "\n",
    "- 在jupyter中使用自己的conda环境\n",
    "\n",
    "``` bash\n",
    "conda activate py37\n",
    "conda install nb_conda_kernels\n",
    "```\n",
    "\n",
    "- shell小技巧\n",
    "\n",
    "```\n",
    "alias ca=\"conda activate\"\n",
    "```\n",
    "\n",
    "\n"
   ]
  },
  {
   "cell_type": "code",
   "execution_count": 3,
   "id": "fda873ed",
   "metadata": {},
   "outputs": [
    {
     "name": "stdout",
     "output_type": "stream",
     "text": [
      "sadasdas\n"
     ]
    }
   ],
   "source": [
    "print(\"sadasdas\")"
   ]
  },
  {
   "cell_type": "code",
   "execution_count": 82,
   "id": "2f8079b1",
   "metadata": {},
   "outputs": [],
   "source": [
    "import numpy as np\n",
    "import nf\n",
    "import torch as th"
   ]
  },
  {
   "cell_type": "code",
   "execution_count": 85,
   "id": "4b3ed829",
   "metadata": {},
   "outputs": [
    {
     "data": {
      "text/plain": [
       "Tensor with shape: (4, 1)\n",
       "[[10]\n",
       " [10]\n",
       " [ 0]\n",
       " [12]]"
      ]
     },
     "execution_count": 85,
     "metadata": {},
     "output_type": "execute_result"
    }
   ],
   "source": [
    "nf.abs([[10, -10, 0, 12]]).T"
   ]
  },
  {
   "cell_type": "code",
   "execution_count": 29,
   "id": "08bed019",
   "metadata": {},
   "outputs": [
    {
     "data": {
      "text/plain": [
       "torch.Size([5, 1, 1])"
      ]
     },
     "execution_count": 29,
     "metadata": {},
     "output_type": "execute_result"
    }
   ],
   "source": [
    "th.abs(th.Tensor([[[-1,2,0,1,2]]])).T.shape"
   ]
  },
  {
   "cell_type": "code",
   "execution_count": 89,
   "id": "c1a171b5",
   "metadata": {},
   "outputs": [
    {
     "name": "stdout",
     "output_type": "stream",
     "text": [
      "[array([3.]), array([6.]), None]\n"
     ]
    }
   ],
   "source": [
    "def func(x,y,z):\n",
    "    f6 = x + y + 1 * x * y \n",
    "    return f6\n",
    "def nf_grad_Test(x,y,z):\n",
    "    x = nf.Tensor(x, requires_grad=True) # grad\n",
    "    y = nf.Tensor(y, requires_grad=True)\n",
    "    z = nf.Tensor(z, requires_grad=True)\n",
    "    f9 = func(x,y,z)\n",
    "    f9.backward() # 计算梯度\n",
    "#     print(\"nf\", t2,time() - t1)\n",
    "    return [x.grad, y.grad, z.grad]\n",
    "x = np.array([5])\n",
    "y = np.array([2])\n",
    "z = np.array([3])\n",
    "grad_nf = nf_grad_Test(x,y,z)\n",
    "print(grad_nf)"
   ]
  },
  {
   "cell_type": "markdown",
   "id": "016938fa",
   "metadata": {},
   "source": [
    "f(x,y) = x + y\n",
    "f/x=1   f/y=1"
   ]
  },
  {
   "cell_type": "code",
   "execution_count": 79,
   "id": "bdd6d0ee",
   "metadata": {},
   "outputs": [],
   "source": [
    "\n",
    "class Add:\n",
    "    def __call__(self, a, b):\n",
    "        self.var = (a, b)\n",
    "        return a + b\n",
    "    \n",
    "    def backward(self, grad):\n",
    "        self.var[0].backward(grad)\n",
    "        self.var[1].backward(grad)\n",
    "\n",
    "        \n",
    "class Mul:\n",
    "    def __call__(self, a, b):\n",
    "        self.var = (a, b)\n",
    "        return a * b\n",
    "    \n",
    "    def backward(self, grad):\n",
    "        self.var[0].backward(grad*b.val)\n",
    "        self.var[1].backward(grad*a.val)\n",
    "\n",
    "add_op = Add()\n",
    "mul_op = Mul()\n",
    "        \n",
    "class TestTensor :\n",
    "    def __init__(self, val, creator=None):\n",
    "        self.val = val # shape [5,5]\n",
    "        self.creator = creator\n",
    "        self.grad = 0\n",
    "        \n",
    "    def __add__(self, other): # 魔术方法\n",
    "        return TestTensor(self.val + other.val, add_op)\n",
    "    def __radd__(self, other):\n",
    "        return TestTensor(other.val + self.val, add_op)\n",
    "    \n",
    "    def __mul__(self, other): # 乘法\n",
    "        return TestTensor(self.val * other.val, mul_op)\n",
    "    def __rmul__(self, other):\n",
    "        return TestTensor(other.val * self.val, mul_op)\n",
    "    \n",
    "    def backward(self, grad):\n",
    "        self.grad += grad\n",
    "        if self.creator == None :\n",
    "            return\n",
    "        return self.creator.backward(grad)\n",
    "    "
   ]
  },
  {
   "cell_type": "code",
   "execution_count": 81,
   "id": "6baaa04f",
   "metadata": {},
   "outputs": [
    {
     "name": "stdout",
     "output_type": "stream",
     "text": [
      "12\n",
      "2 6 1\n"
     ]
    }
   ],
   "source": [
    "a = TestTensor(6)\n",
    "b = TestTensor(2)\n",
    "\n",
    "e = mul_op(a, b)\n",
    "print(e.val)\n",
    "\n",
    "e.backward(1)\n",
    "print(a.grad, b.grad, e.grad)"
   ]
  },
  {
   "cell_type": "markdown",
   "id": "e43078a1",
   "metadata": {},
   "source": [
    "## 作业\n",
    "1. 自己实现一个Tensor、算子完成梯度计算"
   ]
  },
  {
   "cell_type": "markdown",
   "id": "5920995f",
   "metadata": {},
   "source": [
    "## 参考\n",
    "- https://segmentfault.com/a/1190000023346483\n",
    "- https://www.heywhale.com/mw/project/59f29f67c5f3f5119527a2cc"
   ]
  },
  {
   "cell_type": "markdown",
   "id": "2e0459b2",
   "metadata": {},
   "source": [
    "---"
   ]
  }
 ],
 "metadata": {
  "kernelspec": {
   "display_name": "Python [conda env:py37] *",
   "language": "python",
   "name": "conda-env-py37-py"
  },
  "language_info": {
   "codemirror_mode": {
    "name": "ipython",
    "version": 3
   },
   "file_extension": ".py",
   "mimetype": "text/x-python",
   "name": "python",
   "nbconvert_exporter": "python",
   "pygments_lexer": "ipython3",
   "version": "3.7.10"
  }
 },
 "nbformat": 4,
 "nbformat_minor": 5
}
