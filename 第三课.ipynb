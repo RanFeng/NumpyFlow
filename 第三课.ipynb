{
 "cells": [
  {
   "cell_type": "markdown",
   "id": "eef29d66",
   "metadata": {},
   "source": [
    "# 第三课"
   ]
  },
  {
   "cell_type": "markdown",
   "id": "44cd9339",
   "metadata": {},
   "source": [
    "## 作业\n",
    "1. 了解python中zip的用法\n",
    "2. softmax的了解，与sigmoid的关系\n",
    "3. 学习mnist.py的所有语句，并添加注释\n",
    "4. 跑通pytorch mnist\n",
    "5. 了解slice、了解 `[300:550, :, :]`作用\n",
    "\n",
    "```\n",
    "pip install torch\n",
    "pip install matplotlib\n",
    "pip install opencv-python\n",
    "```"
   ]
  }
 ],
 "metadata": {
  "kernelspec": {
   "display_name": "Python [conda env:py37] *",
   "language": "python",
   "name": "conda-env-py37-py"
  },
  "language_info": {
   "codemirror_mode": {
    "name": "ipython",
    "version": 3
   },
   "file_extension": ".py",
   "mimetype": "text/x-python",
   "name": "python",
   "nbconvert_exporter": "python",
   "pygments_lexer": "ipython3",
   "version": "3.7.10"
  }
 },
 "nbformat": 4,
 "nbformat_minor": 5
}
