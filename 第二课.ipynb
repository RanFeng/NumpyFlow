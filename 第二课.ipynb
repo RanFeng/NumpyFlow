{
 "cells": [
  {
   "cell_type": "markdown",
   "id": "101ecc0b",
   "metadata": {},
   "source": [
    "# 第二课\n",
    "> 项目代码：https://github.com/RanFeng/NumpyFlow"
   ]
  },
  {
   "cell_type": "markdown",
   "id": "89968732",
   "metadata": {},
   "source": [
    "## 提升开发效率\n",
    "\n",
    "> 工欲善其事，必先利其器\n",
    "\n",
    "- 使用jupyter\n",
    "\n",
    "``` bash\n",
    "jupyter-notebook\n",
    "``` \n",
    "\n",
    "- 在jupyter中使用自己的conda环境\n",
    "\n",
    "``` bash\n",
    "conda activate py37\n",
    "conda install nb_conda_kernels\n",
    "```\n",
    "\n",
    "- shell小技巧\n",
    "\n",
    "```\n",
    "alias ca=\"conda activate\"\n",
    "```\n",
    "\n",
    "\n"
   ]
  },
  {
   "cell_type": "code",
   "execution_count": 3,
   "id": "fda873ed",
   "metadata": {},
   "outputs": [
    {
     "name": "stdout",
     "output_type": "stream",
     "text": [
      "sadasdas\n"
     ]
    }
   ],
   "source": [
    "print(\"sadasdas\")"
   ]
  },
  {
   "cell_type": "code",
   "execution_count": 34,
   "id": "2f8079b1",
   "metadata": {},
   "outputs": [],
   "source": [
    "import numpy as np\n",
    "import nf\n",
    "import torch as th"
   ]
  },
  {
   "cell_type": "code",
   "execution_count": 50,
   "id": "4b3ed829",
   "metadata": {},
   "outputs": [],
   "source": [
    "a = nf.Tensor([[1, 2, 3]], requires_grad=True)\n",
    "b = nf.Tensor([[5], [5]], requires_grad=True)\n",
    "c = a * b\n",
    "\n",
    "def broadcastable(grad, ashape):\n",
    "    \"\"\"\n",
    "    保证传递的梯度shape一致，用于兼容广播机制的反向传播\n",
    "    :param grad:\n",
    "    :param ashape:\n",
    "    :return:\n",
    "    \"\"\"\n",
    "    if grad.shape == ashape:\n",
    "        return grad\n",
    "    grad_bak = grad.sum(axis=tuple(range(grad.ndim - len(ashape))))\n",
    "    # print(\"g\", grad_bak.shape, ashape)\n",
    "    keepdims = tuple(n for (n, i) in enumerate(grad_bak.shape) if i != ashape[n])\n",
    "    if keepdims:\n",
    "        grad_bak = grad_bak.sum(axis=keepdims, keepdims=True)\n",
    "    # print(\"g\", grad_bak.shape, ashape)\n",
    "    return grad_bak"
   ]
  },
  {
   "cell_type": "code",
   "execution_count": 85,
   "id": "0f8061be",
   "metadata": {
    "scrolled": false
   },
   "outputs": [
    {
     "name": "stdout",
     "output_type": "stream",
     "text": [
      "tensor([[101., 202., 303.],\n",
      "        [104., 205., 306.]])\n",
      "None\n",
      "None\n"
     ]
    }
   ],
   "source": [
    "# [[1,2,3], [1,2,3]]\n",
    "# [[5,5,5], [5,5,5]]\n",
    "A = th.Tensor(np.array([[1,2,3],[4,5,6]]))\n",
    "B = th.Tensor(np.array([100, 200, 300]))\n",
    "c = A + B\n",
    "# result = A + [100, 200, 300]\n",
    "\n",
    "# grad = np.array([[[1,1,1], [1,1,1]]])\n",
    "# d = nf.Tensor(grad)\n",
    "# print(d.shape)\n",
    "# print(d.T.shape)\n",
    "# print(grad.shape)\n",
    "# print(grad.T.shape)\n",
    "# c.backward(1)\n",
    "\n",
    "# grad_bak = broadcastable(grad, (2, 1))\n",
    "print(c)\n",
    "print(A.grad)\n",
    "print(B.grad)\n",
    "\n",
    "# print(a.shape, a.grad)\n",
    "# print(b.shape, b.grad)"
   ]
  },
  {
   "cell_type": "code",
   "execution_count": 29,
   "id": "08bed019",
   "metadata": {},
   "outputs": [
    {
     "data": {
      "text/plain": [
       "torch.Size([5, 1, 1])"
      ]
     },
     "execution_count": 29,
     "metadata": {},
     "output_type": "execute_result"
    }
   ],
   "source": [
    "th.abs(th.Tensor([[[-1,2,0,1,2]]])).T.shape"
   ]
  },
  {
   "cell_type": "code",
   "execution_count": 89,
   "id": "c1a171b5",
   "metadata": {},
   "outputs": [
    {
     "name": "stdout",
     "output_type": "stream",
     "text": [
      "[array([3.]), array([6.]), None]\n"
     ]
    }
   ],
   "source": [
    "def func(x,y,z):\n",
    "    f6 = x + y + 1 * x * y \n",
    "    return f6\n",
    "def nf_grad_Test(x,y,z):\n",
    "    x = nf.Tensor(x, requires_grad=True) # grad\n",
    "    y = nf.Tensor(y, requires_grad=True)\n",
    "    z = nf.Tensor(z, requires_grad=True)\n",
    "    f9 = func(x,y,z)\n",
    "    f9.backward() # 计算梯度\n",
    "#     print(\"nf\", t2,time() - t1)\n",
    "    return [x.grad, y.grad, z.grad]\n",
    "x = np.array([5])\n",
    "y = np.array([2])\n",
    "z = np.array([3])\n",
    "grad_nf = nf_grad_Test(x,y,z)\n",
    "print(grad_nf)"
   ]
  },
  {
   "cell_type": "markdown",
   "id": "016938fa",
   "metadata": {},
   "source": [
    "f(x,y) = x + y\n",
    "f/x=1   f/y=1"
   ]
  },
  {
   "cell_type": "code",
   "execution_count": 56,
   "id": "bdd6d0ee",
   "metadata": {},
   "outputs": [],
   "source": [
    "\n",
    "class Add:\n",
    "    def __call__(self, a, b):\n",
    "        self.var = (a, b)\n",
    "        return a + b\n",
    "    \n",
    "    def backward(self, grad):\n",
    "        self.var[0].backward(grad)\n",
    "        self.var[1].backward(grad)\n",
    "\n",
    "class Assign :\n",
    "    def __call__(self, a):\n",
    "        self.var = (a)\n",
    "        return a\n",
    "\n",
    "    def backward(self, grad):\n",
    "        return None\n",
    "        \n",
    "class Mul:\n",
    "    def __call__(self, a, b):\n",
    "        self.var = (a, b)\n",
    "        return a.data * b.data\n",
    "    \n",
    "    def backward(self, grad):\n",
    "        self.var[0].backward(grad*b.data)\n",
    "        self.var[1].backward(grad*a.data)\n",
    "\n",
    "\n",
    "\n",
    "\n",
    "\n",
    "class TestTensor :\n",
    "    def __init__(self, data=None, creator=None):\n",
    "        self.data = None\n",
    "        if isinstance(data, (int, float, bool)):\n",
    "            data = [data]\n",
    "        if isinstance(data, (list, tuple)):\n",
    "            data = np.array(data)\n",
    "        if isinstance(data, (np.ndarray)):\n",
    "            self.data = data.copy()\n",
    "        elif isinstance(data, TestTensor):\n",
    "            raise ValueError(\"输入的是 TestTensor\")\n",
    "        else:\n",
    "            raise ValueError(\"输入类型未知\", type(data), data)\n",
    "        if creator is None:\n",
    "            creator = Assign()\n",
    "            creator(self)\n",
    "        self.creator = creator\n",
    "        self.grad = self.data * 0\n",
    "        \n",
    "    def __mul__(self, other): # 乘法\n",
    "        mul_op = Mul()\n",
    "        return TestTensor(self * other, mul_op)\n",
    "    def __rmul__(self, other): # 乘法\n",
    "        mul_op = Mul()\n",
    "        return TestTensor(mul_op(other, self), mul_op)\n",
    "    def backward(self, grad):\n",
    "        self.grad += grad\n",
    "        if self.creator:\n",
    "            self.creator.backward(grad)"
   ]
  },
  {
   "cell_type": "code",
   "execution_count": 64,
   "id": "6baaa04f",
   "metadata": {},
   "outputs": [
    {
     "name": "stdout",
     "output_type": "stream",
     "text": [
      "[[12 12]\n",
      " [ 3  8]]\n",
      "<__main__.TestTensor object at 0x7f8278b2c350>\n"
     ]
    }
   ],
   "source": [
    "a = TestTensor(np.array([[6, 6], [1, 2]]))\n",
    "b = TestTensor([[2, 2], [3, 4]])\n",
    "# c = TestTensor()\n",
    "e = a * b\n",
    "print(e.data)\n",
    "\n",
    "# e.backward(1)\n",
    "# print(a.grad)\n",
    "# print(b.grad)\n",
    "print(e)"
   ]
  },
  {
   "cell_type": "code",
   "execution_count": 33,
   "id": "672ebc12",
   "metadata": {},
   "outputs": [
    {
     "name": "stdout",
     "output_type": "stream",
     "text": [
      "[[1 2 3]\n",
      " [4 5 6]] (2, 3)\n",
      "[[1 2]\n",
      " [3 4]\n",
      " [5 6]]\n"
     ]
    }
   ],
   "source": [
    "a = np.array([[1, 2, 3], [4,5,6]])\n",
    "b = np.array([4])\n",
    "\n",
    "# print(a, a.shape) # 广播机制\n",
    "print(a.reshape([3,2]))\n",
    "\n",
    "# Reshape(a, [3,2])"
   ]
  },
  {
   "cell_type": "markdown",
   "id": "e43078a1",
   "metadata": {},
   "source": [
    "## 作业\n",
    "1. 了解numpy的广播机制\n",
    "2. 了解广播机制的反向传播"
   ]
  },
  {
   "cell_type": "markdown",
   "id": "5920995f",
   "metadata": {},
   "source": [
    "## 参考\n",
    "- https://segmentfault.com/a/1190000023346483\n",
    "- https://www.heywhale.com/mw/project/59f29f67c5f3f5119527a2cc"
   ]
  },
  {
   "cell_type": "markdown",
   "id": "2e0459b2",
   "metadata": {},
   "source": [
    "---"
   ]
  }
 ],
 "metadata": {
  "kernelspec": {
   "display_name": "Python [conda env:py37] *",
   "language": "python",
   "name": "conda-env-py37-py"
  },
  "language_info": {
   "codemirror_mode": {
    "name": "ipython",
    "version": 3
   },
   "file_extension": ".py",
   "mimetype": "text/x-python",
   "name": "python",
   "nbconvert_exporter": "python",
   "pygments_lexer": "ipython3",
   "version": "3.7.10"
  }
 },
 "nbformat": 4,
 "nbformat_minor": 5
}
